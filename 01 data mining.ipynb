{
 "cells": [
  {
   "cell_type": "markdown",
   "metadata": {},
   "source": [
    "##### Notebook 01: Project Introduction and Data Gathering\n",
    "\n",
    "# US FOMC Communication Interest Rate Forecaster\n",
    "\n",
    "### Executive Summary:\n",
    "Using US Federal Reserve Open Market Committee public communications, we can forecast with approximately 65% accuracy the following 6-month interest rate sentiment.  This is based on using FOMC communications since 1960, and allowing the model to be trained on a random 75% training sample.  Removing portions of data based on date significantly reduces future model accuracy, as the features of the communications changes over time, and the economic/political environment changes over time.  When used with caution, an NLP model using FOMC communications as features can be a useful supplemental tool for interest rate forecasting.\n",
    "\n",
    "### Problem Statement:<br>\n",
    "Can NLP be used to forecast US rate changes with a useful level of accuracy?\n",
    "\n",
    "### Requirements:<br>\n",
    "Python 3.6+<br>\n",
    "selenium<br>\n",
    "fredapi<br>\n",
    "pdfminer<br>\n",
    "scikit-learn<br>\n",
    "gensim<br>\n",
    "nltk<br>\n",
    "xgboost<br>\n",
    "pyLDAvis<br>\n",
    "\n",
    "##### Code Credit:\n",
    "pdfminer function:\n",
    "https://www.blog.pythonlibrary.org/2018/05/03/exporting-data-from-pdfs-with-python/<br>\n",
    "\n",
    "### Contents:\n",
    "- [01 Data Gathering](#01:-Data-Gathering)\n",
    "- [02: Convert PDF Files](#02:-Convert-PDF-Files)"
   ]
  },
  {
   "cell_type": "code",
   "execution_count": 1,
   "metadata": {},
   "outputs": [],
   "source": [
    "## Import libraries\n",
    "\n",
    "from time import sleep as sleep\n",
    "import os\n",
    "import io\n",
    "import pandas as pd\n",
    "import datefinder\n",
    "from selenium import webdriver\n",
    "from fredapi import Fred\n",
    "from pdfminer.pdfpage import PDFPage\n",
    "from pdfminer.converter import TextConverter\n",
    "from pdfminer.pdfinterp import PDFPageInterpreter\n",
    "from pdfminer.pdfinterp import PDFResourceManager\n",
    "from pdfminer.pdfpage import PDFPage"
   ]
  },
  {
   "cell_type": "markdown",
   "metadata": {},
   "source": [
    "### 01: Data Gathering<br>\n",
    "FOMC communications are released in PDF documents online for public consumption.  All PDF documents are associated by the FOMC with a month.  This month may not be when it was written, but it will be the month it was released to be public.  All documents contain a timestamp with the month it was released.<br>\n",
    "Historical daily real interest rates will be downloaded from the US Federal Reserve's FRED database, using their FRED API.<br>\n",
    "PDF documents will be saved in a local folder, interest rate data will be saved as a local CSV.\n",
    "1. Library imports\n",
    "2. Define the years and months target for PDF downloads\n",
    "3. Download FOMC communication documents, this will download all PDF files available for each month/year\n",
    "4. Delete any duplicates that may have been downloaded\n",
    "5. Download rate history and save to CSV"
   ]
  },
  {
   "cell_type": "code",
   "execution_count": 2,
   "metadata": {},
   "outputs": [],
   "source": [
    "## Definine project directory\n",
    "\n",
    "original_dir = os.getcwd()"
   ]
  },
  {
   "cell_type": "code",
   "execution_count": 3,
   "metadata": {},
   "outputs": [],
   "source": [
    "## Define download targets\n",
    "\n",
    "# Months\n",
    "months = ['January', 'February', 'March', 'April', 'May', 'June', \n",
    "         'July', 'August', 'September', 'October', 'November', 'December']\n",
    "# Years\n",
    "years = ['1983', '1982', '1981', '1980', '1979', '1978', '1977', '1976', '1975', '1974', \n",
    "        '1973', '1972', '1971', '1970', '1969', '1968', '1967', '1966', '1965', '1964', \n",
    "        '1963', '1962', '1961', '1960']"
   ]
  },
  {
   "cell_type": "code",
   "execution_count": 4,
   "metadata": {},
   "outputs": [],
   "source": [
    "## Webscraper for downloading PDF files\n",
    "\n",
    "# Function to start next download only after previous is finished\n",
    "def downloads_done():\n",
    "    for i in os.listdir(download_dir):\n",
    "        if \".crdownload\" in i:\n",
    "            sleep(0.5)\n",
    "            downloads_done()\n",
    "\n",
    "# Options\n",
    "download_dir = \"C:\\FOMC Documents\" # Windows\n",
    "options = webdriver.ChromeOptions()\n",
    "profile = {\"plugins.plugins_list\": [{\"enabled\": False, \"name\": \"Chrome PDF Viewer\"}],\n",
    "               \"download.default_directory\": download_dir , \"download.extensions_to_open\": \"applications/pdf\", \n",
    "          \"download.prompt_for_download\": \"false\"}\n",
    "options.add_experimental_option(\"prefs\", profile)\n",
    "driver = webdriver.Chrome('./chromedriver/chromedriver', options=options)\n",
    "driver.implicitly_wait(3)\n",
    "\n",
    "# FOMC webpage\n",
    "driver.get(f'https://fraser.stlouisfed.org/title/677')\n",
    "\n",
    "# Loop downloads in all desired years and months\n",
    "for y in years:\n",
    "    for m in months:\n",
    "        pdf_links = []\n",
    "        xpath = \"//*[contains(text(), '\"+m+\"') and contains(text(), '\"+y+\"')]\"\n",
    "        # Try/except block to accomodate some months not existing, no meetings\n",
    "        try:\n",
    "            period = driver.find_element_by_xpath(xpath)\n",
    "            period.click()\n",
    "\n",
    "            elems = driver.find_elements_by_css_selector(\"a[href*='.pdf']\")\n",
    "            for elem in elems:\n",
    "                if len(elem.text) > 1:\n",
    "                    pdf_links.append(elem.text)\n",
    "            for elem in pdf_links:\n",
    "                download = driver.find_element_by_link_text(elem)\n",
    "                download.click()\n",
    "                sleep(1)\n",
    "                downloads_done()\n",
    "        except:\n",
    "            pass\n",
    "driver.quit()"
   ]
  },
  {
   "cell_type": "code",
   "execution_count": 6,
   "metadata": {},
   "outputs": [],
   "source": [
    "## Delete any duplicates that may have been scraped\n",
    "\n",
    "files = 'C:/FOMC Documents/'\n",
    "os.chdir(files)\n",
    "for f in os.listdir('.'):\n",
    "    if f.endswith('(1).pdf'):\n",
    "        os.remove(f)"
   ]
  },
  {
   "cell_type": "code",
   "execution_count": 16,
   "metadata": {},
   "outputs": [],
   "source": [
    "## Download real daily interest rate history\n",
    "\n",
    "fred = Fred(api_key='9a1d22d71aa0e64ad32ec723c47c1db0')\n",
    "data = fred.get_series('DFF')"
   ]
  },
  {
   "cell_type": "code",
   "execution_count": 17,
   "metadata": {},
   "outputs": [
    {
     "data": {
      "text/plain": [
       "1954-07-01    1.13\n",
       "1954-07-02    1.25\n",
       "1954-07-03    1.25\n",
       "1954-07-04    1.25\n",
       "1954-07-05    0.88\n",
       "dtype: float64"
      ]
     },
     "execution_count": 17,
     "metadata": {},
     "output_type": "execute_result"
    }
   ],
   "source": [
    "data.head()"
   ]
  },
  {
   "cell_type": "code",
   "execution_count": 7,
   "metadata": {},
   "outputs": [],
   "source": [
    "## Save locally as CSV\n",
    "\n",
    "os.chdir(original_dir)\n",
    "data = pd.DataFrame(data, columns=['rate'])\n",
    "data.to_csv('./data/data.csv', sep=',')"
   ]
  },
  {
   "cell_type": "markdown",
   "metadata": {},
   "source": [
    "### 02: Convert PDF Files\n",
    "Downloaded PDF files will be converted to text strings in a dataframe.  First a function is defined to convert the PDF file text to strings using the pdfminer library.  Next a list of the PDF documents to convert is created.  The total number of PDF files scraped is excessively large, and many documents hold no valuable predictive information (such as press statements announcing when a document will be released).  Document types vary over the years, so a robust method of only taking the largest filesize PDF document for each month will be used.  Not all months have any documents released.<br>\n",
    "An alternative method of choosing documents by their filename is included for reference.\n",
    "1. Define function for extracting text\n",
    "2. Define which documents to use\n",
    "3. Extract text\n",
    "4. Save text dataframe as local CSV."
   ]
  },
  {
   "cell_type": "code",
   "execution_count": 7,
   "metadata": {},
   "outputs": [],
   "source": [
    "## Function to extract text from PDF files\n",
    "\n",
    "def extract_text_from_pdf(pdf_path):\n",
    "    resource_manager = PDFResourceManager()\n",
    "    fake_file_handle = io.StringIO()\n",
    "    converter = TextConverter(resource_manager, fake_file_handle)\n",
    "    page_interpreter = PDFPageInterpreter(resource_manager, converter)\n",
    "    \n",
    "    with open(pdf_path, 'rb') as fh:\n",
    "        for page in PDFPage.get_pages(fh, \n",
    "                                      caching=True,\n",
    "                                      check_extractable=True):\n",
    "            page_interpreter.process_page(page)\n",
    "            \n",
    "        text = fake_file_handle.getvalue()\n",
    "    \n",
    "    # close open handles\n",
    "    converter.close()\n",
    "    fake_file_handle.close()\n",
    "    \n",
    "    if text:\n",
    "        return text"
   ]
  },
  {
   "cell_type": "code",
   "execution_count": null,
   "metadata": {
    "scrolled": true
   },
   "outputs": [],
   "source": [
    "## Import documents based on name of the document\n",
    "## Depreciated alternative method\n",
    "\n",
    "# df_beige = pd.DataFrame(columns=['date','text'])\n",
    "# files = 'C:/FOMC Documents/'\n",
    "# os.chdir(files)\n",
    "\n",
    "\n",
    "# # Beige book - Runs from 2012/07 to present\n",
    "# for f in os.listdir('.'):\n",
    "#     if f.startswith('Beige'):\n",
    "#         new_date = list(datefinder.find_dates(f))\n",
    "#         new_text = extract_text_from_pdf(files + f)\n",
    "\n",
    "#         new_line = pd.DataFrame({'date': new_date[0], 'text': new_text}, index=[0])\n",
    "#         df_beige = pd.concat([df_beige, new_line])"
   ]
  },
  {
   "cell_type": "code",
   "execution_count": 18,
   "metadata": {},
   "outputs": [],
   "source": [
    "## Get the largest PDF for each month\n",
    "## File names and communication types vary over the years\n",
    "\n",
    "files = 'C:/FOMC Documents/'\n",
    "os.chdir(files)\n",
    "\n",
    "months = ['01','02','03','04','05','06','07','08','09','10','11','12']\n",
    "years = [2018,2017,2016,2015,2014,2013,2012,2011,2010,2009,2008,2007,2006,2005,2004,2003,2002,2001,2000,\n",
    "        1999,1998,1997,1996,1995,1994,1993,1992,1991,1990,1989,1987,1986,1985, 1984, 1983, \n",
    "        1982, 1981, 1980, 1979, 1978, 1977, 1976, 1975, 1974, 1973, 1972, 1971, 1970, 1969, \n",
    "        1968, 1967, 1966, 1965, 1964, 1963, 1962, 1961, 1960]\n",
    "years = [str(i) for i in years]\n",
    "\n",
    "pdf_files = []\n",
    "largest_byte = 0\n",
    "largest_file = ''\n",
    "\n",
    "for y in years:\n",
    "    for m in months:\n",
    "        date_filter = y+m\n",
    "        for f in os.listdir('.'):\n",
    "            if date_filter in f:\n",
    "                stat = os.stat(f)\n",
    "                if stat.st_size > largest_byte:\n",
    "                    largest_byte = stat.st_size\n",
    "                    largest_file = f\n",
    "        pdf_files.append(largest_file)\n",
    "        largest_file = ''\n",
    "        largest_byte = 0"
   ]
  },
  {
   "cell_type": "code",
   "execution_count": 19,
   "metadata": {},
   "outputs": [
    {
     "data": {
      "text/plain": [
       "696"
      ]
     },
     "execution_count": 19,
     "metadata": {},
     "output_type": "execute_result"
    }
   ],
   "source": [
    "len(pdf_files)"
   ]
  },
  {
   "cell_type": "code",
   "execution_count": null,
   "metadata": {},
   "outputs": [],
   "source": [
    "## Extract text from each file\n",
    "## Counter will show progress, and confirm the process is working\n",
    "\n",
    "df_texts = pd.DataFrame(columns=['date','text'])\n",
    "files = 'C:/FOMC Documents/'\n",
    "os.chdir(files)\n",
    "counter = 0\n",
    "\n",
    "# Extract text from the largest file from each month\n",
    "for file in pdf_files:\n",
    "    for f in os.listdir('.'):\n",
    "        if f == file:\n",
    "            new_date = list(datefinder.find_dates(f))\n",
    "            new_text = extract_text_from_pdf(files + f)\n",
    "\n",
    "            new_line = pd.DataFrame({'date': new_date[0], 'text': new_text}, index=[0])\n",
    "            df_texts = pd.concat([df_texts, new_line])\n",
    "            print(counter)\n",
    "            counter += 1"
   ]
  },
  {
   "cell_type": "code",
   "execution_count": 12,
   "metadata": {
    "scrolled": true
   },
   "outputs": [
    {
     "data": {
      "text/plain": [
       "(644, 2)"
      ]
     },
     "execution_count": 12,
     "metadata": {},
     "output_type": "execute_result"
    }
   ],
   "source": [
    "df_texts.shape"
   ]
  },
  {
   "cell_type": "code",
   "execution_count": 13,
   "metadata": {
    "scrolled": true
   },
   "outputs": [
    {
     "data": {
      "text/html": [
       "<div>\n",
       "<style scoped>\n",
       "    .dataframe tbody tr th:only-of-type {\n",
       "        vertical-align: middle;\n",
       "    }\n",
       "\n",
       "    .dataframe tbody tr th {\n",
       "        vertical-align: top;\n",
       "    }\n",
       "\n",
       "    .dataframe thead th {\n",
       "        text-align: right;\n",
       "    }\n",
       "</style>\n",
       "<table border=\"1\" class=\"dataframe\">\n",
       "  <thead>\n",
       "    <tr style=\"text-align: right;\">\n",
       "      <th></th>\n",
       "      <th>date</th>\n",
       "      <th>text</th>\n",
       "    </tr>\n",
       "  </thead>\n",
       "  <tbody>\n",
       "    <tr>\n",
       "      <th>0</th>\n",
       "      <td>1960-03-01</td>\n",
       "      <td>A meeting of the Federal Open Market Committee...</td>\n",
       "    </tr>\n",
       "    <tr>\n",
       "      <th>0</th>\n",
       "      <td>1960-04-12</td>\n",
       "      <td>A meeting of the Federal Open Market Committee...</td>\n",
       "    </tr>\n",
       "    <tr>\n",
       "      <th>0</th>\n",
       "      <td>1960-05-03</td>\n",
       "      <td>A meeting of the Federal Open Market Committee...</td>\n",
       "    </tr>\n",
       "    <tr>\n",
       "      <th>0</th>\n",
       "      <td>1960-06-14</td>\n",
       "      <td>A meeting of the Federal Open Market Committee...</td>\n",
       "    </tr>\n",
       "    <tr>\n",
       "      <th>0</th>\n",
       "      <td>1960-07-06</td>\n",
       "      <td>A meeting of the Federal Open Market Committee...</td>\n",
       "    </tr>\n",
       "    <tr>\n",
       "      <th>0</th>\n",
       "      <td>1960-08-16</td>\n",
       "      <td>A meeting of the Federal Open Market Committee...</td>\n",
       "    </tr>\n",
       "    <tr>\n",
       "      <th>0</th>\n",
       "      <td>1960-09-13</td>\n",
       "      <td>A meeting of the Federal Open Market Committee...</td>\n",
       "    </tr>\n",
       "    <tr>\n",
       "      <th>0</th>\n",
       "      <td>1960-10-04</td>\n",
       "      <td>A meeting of the Federal Open Market Committee...</td>\n",
       "    </tr>\n",
       "    <tr>\n",
       "      <th>0</th>\n",
       "      <td>1960-11-22</td>\n",
       "      <td>A meeting of the Federal Open Market Committee...</td>\n",
       "    </tr>\n",
       "    <tr>\n",
       "      <th>0</th>\n",
       "      <td>1960-12-13</td>\n",
       "      <td>A meeting of the Federal Open Market Committee...</td>\n",
       "    </tr>\n",
       "  </tbody>\n",
       "</table>\n",
       "</div>"
      ],
      "text/plain": [
       "        date                                               text\n",
       "0 1960-03-01  A meeting of the Federal Open Market Committee...\n",
       "0 1960-04-12  A meeting of the Federal Open Market Committee...\n",
       "0 1960-05-03  A meeting of the Federal Open Market Committee...\n",
       "0 1960-06-14  A meeting of the Federal Open Market Committee...\n",
       "0 1960-07-06  A meeting of the Federal Open Market Committee...\n",
       "0 1960-08-16  A meeting of the Federal Open Market Committee...\n",
       "0 1960-09-13  A meeting of the Federal Open Market Committee...\n",
       "0 1960-10-04  A meeting of the Federal Open Market Committee...\n",
       "0 1960-11-22  A meeting of the Federal Open Market Committee...\n",
       "0 1960-12-13  A meeting of the Federal Open Market Committee..."
      ]
     },
     "execution_count": 13,
     "metadata": {},
     "output_type": "execute_result"
    }
   ],
   "source": [
    "df_texts.tail(10)"
   ]
  },
  {
   "cell_type": "code",
   "execution_count": 14,
   "metadata": {},
   "outputs": [],
   "source": [
    "os.chdir(original_dir)\n",
    "df_texts.to_csv('./data/df_texts.csv', sep=',')"
   ]
  },
  {
   "cell_type": "code",
   "execution_count": null,
   "metadata": {},
   "outputs": [],
   "source": []
  }
 ],
 "metadata": {
  "kernelspec": {
   "display_name": "Python 3",
   "language": "python",
   "name": "python3"
  },
  "language_info": {
   "codemirror_mode": {
    "name": "ipython",
    "version": 3
   },
   "file_extension": ".py",
   "mimetype": "text/x-python",
   "name": "python",
   "nbconvert_exporter": "python",
   "pygments_lexer": "ipython3",
   "version": "3.6.8"
  }
 },
 "nbformat": 4,
 "nbformat_minor": 2
}
